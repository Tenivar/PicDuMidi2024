{
 "cells": [
  {
   "cell_type": "markdown",
   "metadata": {},
   "source": [
    "# 01 : Introduction to imaging in astronomy"
   ]
  },
  {
   "cell_type": "markdown",
   "metadata": {},
   "source": [
    "In Astronomy, when we observe the sky, we are not only interested in the position of the objects, but also in their brightness, colors etc. This is why we need to be able to measure the flux of the objects. But, when we observe the sky, we do not measure the flux of the objects directly. We measure the number of photons that hit the detector. The flux is then derived from the number of photons. This is why we need to understand how the photons are detected and how we can convert the number of photons into a flux. THis process is called the calibration / Reduction of an astronomical image (from an image, we want data ! ).\n",
    "\n",
    "### This course is based on the Astropy Learning Courses ; http://www.astropy.org/ccd-reduction-and-photometry-guide/v/dev/notebooks/00-00-Preface.html\n",
    "\n",
    "### PLEASE READ IT FOR MORE DETAILS :-)"
   ]
  },
  {
   "cell_type": "markdown",
   "metadata": {},
   "source": [
    "# Understanding an astronomical CCD image\n",
    "An astronomical image like the one shown below is essentially a two-dimensional\n",
    "array of values. In an ideal world, the value of each pixel (a pixel being one\n",
    "element of the array) would be directly proportional to the amount of light that\n",
    "fell on the pixel during the time the camera's shutter was open.\n",
    "\n",
    "But the ideal scenario does not in fact hold true. A solid understanding of\n",
    "*why* pixel values are not directly proportional to light is useful before\n",
    "diving into the details of image reduction.\n",
    "## Counts, photons, and electrons\n",
    "\n",
    "The number stored in a raw astronomical image straight off a telescope is called\n",
    "an Analog Digital Unit (ADU) or count, because internally the camera converts\n",
    "the analog voltage in each pixel to a numerical count. The counts of interest to\n",
    "an astronomer are the ones generated via the photoelectric effect when a photon\n",
    "hits the detector. The number of photons (or equivalently, electrons) that reach\n",
    "the pixel is related to the counts in the pixel by the gain.\n",
    "\n",
    "The gain is typically provided by the manufacturer of the camera and can be\n",
    "measured from a combination of bias and flat images (Howell 2002; p. 71).\n",
    "\n",
    "**Take note** that trying to convert a raw image count to photons/electrons by\n",
    "multiplying by the gain will not be meaningful because the raw counts include\n",
    "contributions from sources other than light.\n",
    "## Not all counts are (interesting) light\n",
    "\n",
    "There are several contributions to the counts in a pixel. Image reduction is\n",
    "essentially the process of removing all of these except those due to light from\n",
    "an astronomical object:\n",
    "\n",
    "+ An offset voltage called **bias** is applied to the CCD chip to ensure there\n",
    "are no negative counts during readout. There are small variations in the value\n",
    "of the bias across the chip, and there can be small variations in the bias level\n",
    "over time.\n",
    "+ Counts can be generated in a pixel due to thermal motion of electrons in CCD;\n",
    "cooling a CCD reduces, but may not fully eliminate, this **dark current**. In\n",
    "modern CCDs the dark current is often ignorable exept for a small fraction of\n",
    "pixels. Dark current is typically reported in electrons/second/pixel, and\n",
    "depends strongly on temperature.\n",
    "+ There is **read noise** intrinsic to the electronics of the CCD. It is\n",
    "impossible to eliminate this noise (it's present in every image taken by the\n",
    "camera) but there are approaches to minimizing it. Read noise is typically\n",
    "reported in electrons as it can depend on temperature.\n",
    "+ Some light received by the telescope is scattered light coming from the night\n",
    "sky. The amount of **sky background** depends on the filter passband, the\n",
    "atmospheric conditions, and the local light sources.\n",
    "+ Though a CCD chip is fairly small, it's not unsual for **cosmic rays** to hit\n",
    "the chip, releasing charge that is then converted to counts.\n",
    "\n",
    "Whatever remains after taking all of those things away is, in principle, light\n",
    "from astronomical sources.\n",
    "\n",
    "In practice, there are additional complications.\n",
    "## CCDs are not perfect\n",
    "\n",
    "There are a number of issues that affect the sensitivity of the CCD to light,\n",
    "some of which can be corrected for and some of which cannot.\n",
    "\n",
    "+ Vignetting, a darkening of the images in the corners, is common and\n",
    "correctable.\n",
    "+ Dust in the optical path, which causes \"donuts\" or \"worms\" on the image, is\n",
    "also common and correctable.\n",
    "+ Variations in the sensitivity of individual pixels are also common and\n",
    "correctable.\n",
    "+ Dead pixels, which are pixels that don't respond to light, cannot be corrected\n",
    "for.\n",
    "\n",
    "**Flat** corrections attempt to remove many of these effects. The idea is to\n",
    "image something which is uniformly illuminated as a way to measure variations in\n",
    "sensitivity (regardless of cause) and compensate for them.\n",
    "## References\n",
    "\n",
    "Howell, S., *Handbook of CCD Astronomy*, Second Ed, Cambridge University Press\n",
    "2006"
   ]
  },
  {
   "cell_type": "markdown",
   "metadata": {},
   "source": [
    "## Structure of an image in astronomy\n",
    "\n",
    "At the end of the day,  an astronomical image has the following structure : \n",
    "\n",
    "$$\n",
    "\\text{raw image} = \\text{bias} + \\text{noise} + \\text{dark current} + \\text{flat} \\times (\\text{sky} + \\text{stars}).\n",
    "$$\n",
    "\n",
    "Solving for the counts just from the stars is as follows:\n",
    "\n",
    "$$\n",
    "\\text{stars} + \\text{noise} = \\frac{\\text{raw image} - \\text{bias} - \\text{dark current}}{\\text{flat}} - \\text{sky}\n",
    "$$\n",
    "\n",
    "**It is *impossible* to remove the noise from the raw image because the noise is\n",
    "random.**"
   ]
  },
  {
   "cell_type": "markdown",
   "metadata": {},
   "source": [
    "# Let's study the calibration images ! "
   ]
  },
  {
   "cell_type": "code",
   "execution_count": null,
   "metadata": {},
   "outputs": [],
   "source": [
    "from pathlib import Path\n",
    "from astropy.nddata import CCDData\n",
    "from astropy.io import fits\n",
    "from astropy.stats import mad_std\n",
    "import ccdproc as ccdp\n",
    "import numpy as np\n",
    "import matplotlib.pyplot as plt\n",
    "# Silence FITSFixedWarning : \n",
    "import warnings\n",
    "from astropy.utils.exceptions import AstropyWarning\n",
    "from astropy.wcs import FITSFixedWarning\n",
    "from astropy import wcs\n",
    "warnings.simplefilter('ignore', category=FITSFixedWarning)\n",
    "warnings.simplefilter('ignore', category=AstropyWarning)\n",
    "\n",
    "from lib.functions_for_reduction import *"
   ]
  },
  {
   "cell_type": "code",
   "execution_count": null,
   "metadata": {},
   "outputs": [],
   "source": [
    "# What is the pathes to your images? \n",
    "data_dir= Path(\"Data\")\n",
    "dark_dir = data_dir / \"dark\"\n",
    "\n",
    "calibration_dir = Path(\"Calibration-masters\")\n",
    "# List the files : \n",
    "dark_files = list(dark_dir.glob(\"*.fits\"))\n",
    "# Clean the headers :\n",
    "for file in dark_files:\n",
    "    clean_header(file)\n",
    "# Open the first one, and display the header : \n",
    "with fits.open(dark_files[0]) as hdul:\n",
    "    hdul.info()\n",
    "    print(repr(hdul[0].header))\n"
   ]
  },
  {
   "cell_type": "code",
   "execution_count": null,
   "metadata": {},
   "outputs": [],
   "source": [
    "# List all images in dark using ccdproc : \n",
    "dark_list = ccdp.ImageFileCollection(dark_dir)"
   ]
  },
  {
   "cell_type": "code",
   "execution_count": null,
   "metadata": {},
   "outputs": [],
   "source": [
    "dark_list.summary['file', 'exptime']"
   ]
  },
  {
   "cell_type": "code",
   "execution_count": null,
   "metadata": {},
   "outputs": [],
   "source": [
    "# List unique exposure times :\n",
    "unique_exptime = np.array(np.unique(dark_list.summary['exptime']))\n",
    "print(unique_exptime)\n",
    "# Filter by exposure time, only keenp files that have 1e-3 exposure time -> These are the bias frames\n",
    "bias_files = dark_list.files_filtered(exptime=unique_exptime[0])\n",
    "\n",
    "# Open the bias files and combine them :\n",
    "bias_list = []\n",
    "for file in bias_files:\n",
    "    pathtobias = dark_dir / file\n",
    "    ccd = CCDData.read(pathtobias, unit=\"adu\")\n",
    "    bias_list.append(ccd)"
   ]
  },
  {
   "cell_type": "code",
   "execution_count": null,
   "metadata": {},
   "outputs": [],
   "source": [
    "# Plot the bias frames :\n",
    "fig, ax = plt.subplots(1, 3, figsize=(15, 5))\n",
    "for i, ccd in enumerate(bias_list[:3]):\n",
    "    ax[i].imshow(ccd, vmin=0, vmax=200)\n",
    "    ax[i].set_title(f\"Bias frame {i+1}\")\n",
    "plt.show()\n",
    "# Nicely uniform right? \n",
    "# Plot their histograms on the same figure : \n",
    "fig, ax = plt.subplots(1, 1, figsize=(10, 5))\n",
    "bins = np.linspace(0, 200, 20)\n",
    "for i, ccd in enumerate(bias_list):\n",
    "    ax.hist(ccd.data.flatten(), bins=bins, histtype=\"step\", label=f\"Bias frame {i+1}\")\n",
    "ax.set_xlabel(\"Pixel value\")\n",
    "ax.set_ylabel(\"Number of pixels\")\n",
    "ax.set_yscale(\"log\")\n",
    "ax.legend()\n",
    "plt.show()"
   ]
  },
  {
   "cell_type": "code",
   "execution_count": null,
   "metadata": {},
   "outputs": [],
   "source": [
    "# Combine the bias frames -> It will be bias + RON (Read Out Noise) master : \n",
    "master_bias = ccdp.combine(bias_list, method=\"average\", sigma_clip=True, sigma_clip_low_thresh=5, sigma_clip_high_thresh=5, \n",
    "                           sigma_clip_func=np.ma.median, sigma_clip_dev_func=mad_std)"
   ]
  },
  {
   "cell_type": "code",
   "execution_count": null,
   "metadata": {},
   "outputs": [],
   "source": [
    "plt.imshow(master_bias)\n",
    "plt.show()\n",
    "plt.imshow(master_bias.uncertainty.array)\n",
    "plt.show()\n",
    "plt.hist(master_bias.data.flatten(), bins=bins, histtype=\"step\")\n",
    "plt.xlabel(\"Pixel value\")\n",
    "plt.ylabel(\"Number of pixels\")\n",
    "plt.yscale(\"log\")\n",
    "plt.show()\n",
    "# Save the master bias :\n",
    "master_bias.write(calibration_dir / \"master_bias.fits\", overwrite=True)"
   ]
  },
  {
   "cell_type": "code",
   "execution_count": null,
   "metadata": {},
   "outputs": [],
   "source": [
    "# Now, we load the dark frames with different exposure times, in a dictionary with their exposure time as key :\n",
    "dark_dict = {}\n",
    "for exptime in unique_exptime[1:]:\n",
    "    dark_files = dark_list.files_filtered(exptime=exptime)\n",
    "    temp_dark_list = []\n",
    "    for file in dark_files:\n",
    "        pathtodark = dark_dir / file\n",
    "        ccd = CCDData.read(pathtodark, unit=\"adu\")\n",
    "        temp_dark_list.append(ccd)\n",
    "    dark_dict[exptime] = temp_dark_list"
   ]
  },
  {
   "cell_type": "code",
   "execution_count": null,
   "metadata": {},
   "outputs": [],
   "source": [
    "# Go through the dictionary and combine the dark frames :\n",
    "dark_combined_dict = {}\n",
    "for exptime, dark_list in dark_dict.items():\n",
    "    dark_combined_dict[exptime] = ccdp.combine(dark_list, method=\"average\", sigma_clip=True, sigma_clip_low_thresh=5, sigma_clip_high_thresh=5, \n",
    "                                               sigma_clip_func=np.ma.median, sigma_clip_dev_func=mad_std)"
   ]
  },
  {
   "cell_type": "code",
   "execution_count": null,
   "metadata": {},
   "outputs": [],
   "source": [
    "# Get the master darks mean values and plot them in function of exptime :\n",
    "dark_mean = []\n",
    "exp_list = []\n",
    "for exptime, dark in dark_combined_dict.items():\n",
    "    dark_mean.append(np.mean(dark.data))\n",
    "    exp_list.append(exptime)\n",
    "\n",
    "plt.plot(exp_list, dark_mean, \"o\")\n",
    "plt.xlabel(\"Exposure time (s)\")\n",
    "plt.ylabel(\"Mean value (ADU)\")\n",
    "plt.show()\n",
    "\n"
   ]
  },
  {
   "cell_type": "markdown",
   "metadata": {},
   "source": [
    "# Do we need darks ?"
   ]
  },
  {
   "cell_type": "code",
   "execution_count": null,
   "metadata": {},
   "outputs": [],
   "source": [
    "# Now, we treat the FLAT frames : \n",
    "flat_dir = data_dir / \"FLATS\"\n",
    "master_bias = CCDData.read(calibration_dir / \"master_bias.fits\", unit=\"adu\")\n",
    "flat_filelist = list(flat_dir.glob(\"*.fits\"))\n",
    "for file in flat_filelist:\n",
    "    clean_header(file)\n",
    "flat_list = ccdp.ImageFileCollection(flat_dir)"
   ]
  },
  {
   "cell_type": "code",
   "execution_count": null,
   "metadata": {},
   "outputs": [],
   "source": [
    "# List unique filters :\n",
    "unique_filters = np.array(np.unique(flat_list.summary['filters']))\n",
    "flat_list.summary['file', 'exptime', 'filters']"
   ]
  },
  {
   "cell_type": "code",
   "execution_count": null,
   "metadata": {},
   "outputs": [],
   "source": [
    "def inv_median(array):\n",
    "    return 1 / np.median(array)"
   ]
  },
  {
   "cell_type": "code",
   "execution_count": null,
   "metadata": {},
   "outputs": [],
   "source": [
    "\n",
    "# Create a dictionary with the filters as keys :\n",
    "flat_dict = {}\n",
    "for filt in unique_filters[:]:\n",
    "    print(filt)\n",
    "    flat_files = flat_list.files_filtered(filters=filt)\n",
    "    temp_flat_list = []\n",
    "    flat_mean = []\n",
    "    flat_median = []\n",
    "    for file in flat_files:\n",
    "        pathtoflat = flat_dir / file\n",
    "        clean_header(pathtoflat)\n",
    "        nccd = CCDData.read(pathtoflat, unit=\"adu\")\n",
    "        # break\n",
    "        # Substract the master bias from the flat frames :\n",
    "        nccd = ccdp.subtract_bias(nccd, master_bias)\n",
    "        temp_flat_list.append(nccd)\n",
    "        flat_mean.append(np.mean(nccd.data))\n",
    "        flat_median.append(np.median(nccd.data))\n",
    "    # Plot the mean and median values of the flat frames :\n",
    "    plt.plot(flat_mean, \"o\", label=\"Mean\")\n",
    "    plt.plot(flat_median, \"o\", label=\"Median\")\n",
    "    plt.xlabel(\"Flat frame number\")\n",
    "    plt.ylabel(\"Mean value (ADU)\")\n",
    "    plt.title(filt)\n",
    "    plt.legend()\n",
    "    plt.show()\n",
    "    # Combine the flat frames :\n",
    "    flat_dict[filt] = ccdp.combine(temp_flat_list, method=\"average\", sigma_clip=True, sigma_clip_low_thresh=5, sigma_clip_high_thresh=5, \n",
    "                                   sigma_clip_func=np.ma.median, sigma_clip_dev_func=mad_std, scale=inv_median, mem_limit=500e6)\n",
    "    # Add the filter name to the header :\n",
    "    flat_dict[filt].header[\"FILTER\"] = filt\n",
    "    # Save the master flat :\n",
    "    flat_dict[filt].write(calibration_dir / f\"master_flat_{filt}.fits\", overwrite=True)\n",
    "    # Plot the master flat :\n",
    "    plt.figure(figsize=(10, 10))\n",
    "    plt.imshow(flat_dict[filt], vmin = np.percentile(flat_dict[filt], 5), vmax = np.percentile(flat_dict[filt], 95))\n",
    "    plt.colorbar()\n",
    "    plt.title(filt)\n",
    "    plt.show()"
   ]
  },
  {
   "cell_type": "code",
   "execution_count": null,
   "metadata": {},
   "outputs": [],
   "source": [
    "# Treat all the files in science_dir :\n",
    "science_dir = data_dir / \"pleiades\"\n",
    "# List the files :\n",
    "science_files = list(science_dir.glob(\"*.fits\"))\n",
    "# Clean the headers :\n",
    "for file in science_files:\n",
    "    clean_header(file)\n",
    "\n",
    "science_list = ccdp.ImageFileCollection(science_dir)\n",
    "# What is needed : \n",
    "# Remove the bias\n",
    "# Normalize by the flat\n",
    "# Divide by the exposure time to have ADU/s\n",
    "# Add the filter name to the header\n",
    "# Save the science frames in-place\n",
    "# 1. : Load the master bias :\n",
    "master_bias = CCDData.read(calibration_dir / \"master_bias.fits\", unit=\"adu\")\n",
    "# 2. : Load the master flats in a dictionary :\n",
    "master_flat_dict = {}\n",
    "for filt in unique_filters[:]:\n",
    "    master_flat_dict[filt] = CCDData.read(calibration_dir / f\"master_flat_{filt}.fits\", unit=\"adu\")"
   ]
  },
  {
   "cell_type": "code",
   "execution_count": null,
   "metadata": {},
   "outputs": [],
   "source": [
    "# 3. : Loop through the science frames :\n",
    "for file in science_list.files:\n",
    "    pathtoscience = science_dir / file\n",
    "    nccd = CCDData.read(pathtoscience, unit=\"adu\")\n",
    "    nccd.header[\"FILTER\"] = nccd.header[\"FILTERS\"]\n",
    "    # 4. : Remove the bias :\n",
    "    nccd = ccdp.subtract_bias(nccd, master_bias)\n",
    "    # 5. : Normalize by the flat :\n",
    "    nccd = ccdp.flat_correct(nccd, master_flat_dict[nccd.header[\"FILTER\"]])\n",
    "    # 6. : Divide by the exposure time to have ADU/s :\n",
    "    nccd.data /= nccd.header[\"EXPTIME\"]\n",
    "    # 7. : Add the filter name to the header :\n",
    "    nccd.header[\"FILTER\"] = nccd.header[\"FILTER\"]\n",
    "    # 8. : Save the science frames in-place :\n",
    "    nccd.write(pathtoscience, overwrite=True)"
   ]
  },
  {
   "cell_type": "code",
   "execution_count": null,
   "metadata": {},
   "outputs": [],
   "source": [
    "# Plot the first science frame :\n",
    "nccd = CCDData.read(science_dir / science_list.files[-1], unit=\"adu\")\n",
    "plt.figure(figsize=(10, 10))\n",
    "plt.imshow(nccd, vmin = np.percentile(nccd, 5), vmax = np.percentile(nccd, 95))\n",
    "plt.colorbar()\n",
    "plt.title(nccd.header[\"FILTER\"])\n",
    "plt.show()"
   ]
  },
  {
   "cell_type": "markdown",
   "metadata": {},
   "source": [
    "# How to obtain a final image ; and functions to do so."
   ]
  },
  {
   "cell_type": "markdown",
   "metadata": {},
   "source": []
  },
  {
   "cell_type": "markdown",
   "metadata": {},
   "source": []
  }
 ],
 "metadata": {
  "kernelspec": {
   "display_name": "splat39",
   "language": "python",
   "name": "python3"
  },
  "language_info": {
   "codemirror_mode": {
    "name": "ipython",
    "version": 3
   },
   "file_extension": ".py",
   "mimetype": "text/x-python",
   "name": "python",
   "nbconvert_exporter": "python",
   "pygments_lexer": "ipython3",
   "version": "3.9.18"
  }
 },
 "nbformat": 4,
 "nbformat_minor": 2
}
